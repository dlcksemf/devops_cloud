{
 "cells": [
  {
   "cell_type": "code",
   "execution_count": 1,
   "id": "6290c2d3",
   "metadata": {},
   "outputs": [],
   "source": [
    "import os\n",
    "os.environ[\"DJANGO_SETTINGS_MODULE\"] = \"myhomework17_1.settings\"\n",
    "os.environ[\"DJANGO_ALLOW_ASYNC_UNSAFE\"] = \"true\"\n",
    "import django\n",
    "django.setup()\n",
    "from openpyxl import load_workbook\n",
    "wb = load_workbook('myhomework17.xlsx')\n",
    "sheet = wb.active\n",
    "rows = [\n",
    "\t[column.value for column in row]\n",
    "\tfor row in sheet\n",
    "]"
   ]
  },
  {
   "cell_type": "code",
   "execution_count": 4,
   "id": "479cdae5",
   "metadata": {},
   "outputs": [],
   "source": [
    "column_names = rows[0]"
   ]
  },
  {
   "cell_type": "code",
   "execution_count": 5,
   "id": "732e57a1",
   "metadata": {},
   "outputs": [],
   "source": [
    "from datetime import datetime\n",
    "row_list = []\n",
    "\n",
    "for row in rows[1:]:\n",
    "    row_dict = dict(zip(column_names, row))\n",
    "    row_dict[\"released_date\"] = datetime.strptime(row_dict[\"released_date\"], '%Y.%m.%d')\n",
    "    row_list.append(row_dict)"
   ]
  },
  {
   "cell_type": "code",
   "execution_count": 6,
   "id": "ff072d83",
   "metadata": {},
   "outputs": [],
   "source": [
    "from music.models import Music"
   ]
  },
  {
   "cell_type": "code",
   "execution_count": 7,
   "id": "afc5f4d7",
   "metadata": {},
   "outputs": [],
   "source": [
    "for row_dict in row_list:\n",
    "    music = Music(**row_dict)\n",
    "    music.save()"
   ]
  },
  {
   "cell_type": "code",
   "execution_count": null,
   "id": "f2ff4c76",
   "metadata": {},
   "outputs": [],
   "source": []
  }
 ],
 "metadata": {
  "kernelspec": {
   "display_name": "Python 3 (ipykernel)",
   "language": "python",
   "name": "python3"
  },
  "language_info": {
   "codemirror_mode": {
    "name": "ipython",
    "version": 3
   },
   "file_extension": ".py",
   "mimetype": "text/x-python",
   "name": "python",
   "nbconvert_exporter": "python",
   "pygments_lexer": "ipython3",
   "version": "3.10.0"
  }
 },
 "nbformat": 4,
 "nbformat_minor": 5
}
