{
 "cells": [
  {
   "cell_type": "code",
   "execution_count": 1,
   "id": "69a8d1b7",
   "metadata": {},
   "outputs": [],
   "source": [
    "import os\n",
    "os.environ[\"DJANGO_SETTINGS_MODULE\"] = \"mydjango15.settings\"\n",
    "os.environ[\"DJANGO_ALLOW_ASYNC_UNSAFE\"] = \"true\"\n",
    "\n",
    "import django\n",
    "django.setup()"
   ]
  },
  {
   "cell_type": "code",
   "execution_count": 3,
   "id": "b10ec1b2",
   "metadata": {
    "collapsed": true
   },
   "outputs": [
    {
     "data": {
      "text/plain": [
       "[['name', 'description', 'address', 'coordinates', 'telephone'],\n",
       " ['파리바게뜨 대전판암점',\n",
       "  '카페',\n",
       "  '대전 동구 옥천로 178-1',\n",
       "  '36.3170396,127.4602147',\n",
       "  '010-1234-1234'],\n",
       " ['롯데리아 대전 대동점',\n",
       "  '햄버거',\n",
       "  '대전 동구 계족로 174 롯데리아',\n",
       "  '36.3294711,127.4433755',\n",
       "  '042-628-5500'],\n",
       " ['뚜레쥬르 대전대동오거리점',\n",
       "  '베이커리',\n",
       "  '대전 동구 동대전로 80-2 우치과',\n",
       "  '36.3300265,127.4435977',\n",
       "  '042-633-0454'],\n",
       " ['오토카페', '카페, 디저트', '대전 동구 계족로 170', '36.329033,127.4435962', '1599-7992'],\n",
       " ['본죽 대전대동오거리점',\n",
       "  '죽',\n",
       "  '대전 동구 동대전로 72 2층 본죽',\n",
       "  '36.32899889999999,127.4423756',\n",
       "  '042-282-6288'],\n",
       " ['엄마손치밥', '종합분식', '대전 동구 동대전로 84', '36.3298905,127.4434921', '042-633-9290'],\n",
       " ['투썸플레이스 대전대동오거리점',\n",
       "  '카페',\n",
       "  '대전 동구 계족로 156',\n",
       "  '36.327925,127.4441086',\n",
       "  '042-286-7001'],\n",
       " ['배스킨라빈스 대전대동역',\n",
       "  '아이스크림',\n",
       "  '대전 동구 계족로 167 대동클리닉',\n",
       "  '36.3287489,127.4429866',\n",
       "  '042-631-3131'],\n",
       " ['카페조각구름',\n",
       "  '커피와 함께 희망을 나누는 사람들.\\n카페조각구름은 도시소외지역 청소년들을 바리스타로 교육하고 청소년들이 우리 마을의 좋은 어른으로 자라나도록 응원합니다.\\n(주말 오픈을 요청하는 분들이 있어 운영시간을 조정했습니다. 언제나 따뜻한 공간이 되겠습니다 감사합니다.)',\n",
       "  '대전 동구 계족로 194-21 카페조각구름',\n",
       "  '36.331034,127.442856',\n",
       "  '070-7543-1854'],\n",
       " ['웰빙김밥천국', '한식', '대전 동구 동대전로 93', '36.3307326,127.443573', '042-635-8677']]"
      ]
     },
     "execution_count": 3,
     "metadata": {},
     "output_type": "execute_result"
    }
   ],
   "source": [
    "# pip install openpyxl\n",
    "from openpyxl import load_workbook\n",
    "wb = load_workbook('mydjango15-data.xlsx')\n",
    "sheet = wb.active\n",
    "rows = [\n",
    "\t[column.value for column in row]\n",
    "\tfor row in sheet\n",
    "]\n",
    "rows"
   ]
  },
  {
   "cell_type": "code",
   "execution_count": 6,
   "id": "651c602c",
   "metadata": {},
   "outputs": [
    {
     "data": {
      "text/plain": [
       "['name', 'description', 'address', 'coordinates', 'telephone']"
      ]
     },
     "execution_count": 6,
     "metadata": {},
     "output_type": "execute_result"
    }
   ],
   "source": [
    "column_names = rows[0]\n",
    "column_names"
   ]
  },
  {
   "cell_type": "code",
   "execution_count": 11,
   "id": "b61f8682",
   "metadata": {
    "collapsed": true
   },
   "outputs": [
    {
     "data": {
      "text/plain": [
       "[{'name': '파리바게뜨 대전판암점',\n",
       "  'description': '카페',\n",
       "  'address': '대전 동구 옥천로 178-1',\n",
       "  'telephone': '010-1234-1234',\n",
       "  'latitude': '36.3170396',\n",
       "  'longitude': '127.4602147'},\n",
       " {'name': '롯데리아 대전 대동점',\n",
       "  'description': '햄버거',\n",
       "  'address': '대전 동구 계족로 174 롯데리아',\n",
       "  'telephone': '042-628-5500',\n",
       "  'latitude': '36.3294711',\n",
       "  'longitude': '127.4433755'},\n",
       " {'name': '뚜레쥬르 대전대동오거리점',\n",
       "  'description': '베이커리',\n",
       "  'address': '대전 동구 동대전로 80-2 우치과',\n",
       "  'telephone': '042-633-0454',\n",
       "  'latitude': '36.3300265',\n",
       "  'longitude': '127.4435977'},\n",
       " {'name': '오토카페',\n",
       "  'description': '카페, 디저트',\n",
       "  'address': '대전 동구 계족로 170',\n",
       "  'telephone': '1599-7992',\n",
       "  'latitude': '36.329033',\n",
       "  'longitude': '127.4435962'},\n",
       " {'name': '본죽 대전대동오거리점',\n",
       "  'description': '죽',\n",
       "  'address': '대전 동구 동대전로 72 2층 본죽',\n",
       "  'telephone': '042-282-6288',\n",
       "  'latitude': '36.32899889999999',\n",
       "  'longitude': '127.4423756'},\n",
       " {'name': '엄마손치밥',\n",
       "  'description': '종합분식',\n",
       "  'address': '대전 동구 동대전로 84',\n",
       "  'telephone': '042-633-9290',\n",
       "  'latitude': '36.3298905',\n",
       "  'longitude': '127.4434921'},\n",
       " {'name': '투썸플레이스 대전대동오거리점',\n",
       "  'description': '카페',\n",
       "  'address': '대전 동구 계족로 156',\n",
       "  'telephone': '042-286-7001',\n",
       "  'latitude': '36.327925',\n",
       "  'longitude': '127.4441086'},\n",
       " {'name': '배스킨라빈스 대전대동역',\n",
       "  'description': '아이스크림',\n",
       "  'address': '대전 동구 계족로 167 대동클리닉',\n",
       "  'telephone': '042-631-3131',\n",
       "  'latitude': '36.3287489',\n",
       "  'longitude': '127.4429866'},\n",
       " {'name': '카페조각구름',\n",
       "  'description': '커피와 함께 희망을 나누는 사람들.\\n카페조각구름은 도시소외지역 청소년들을 바리스타로 교육하고 청소년들이 우리 마을의 좋은 어른으로 자라나도록 응원합니다.\\n(주말 오픈을 요청하는 분들이 있어 운영시간을 조정했습니다. 언제나 따뜻한 공간이 되겠습니다 감사합니다.)',\n",
       "  'address': '대전 동구 계족로 194-21 카페조각구름',\n",
       "  'telephone': '070-7543-1854',\n",
       "  'latitude': '36.331034',\n",
       "  'longitude': '127.442856'},\n",
       " {'name': '웰빙김밥천국',\n",
       "  'description': '한식',\n",
       "  'address': '대전 동구 동대전로 93',\n",
       "  'telephone': '042-635-8677',\n",
       "  'latitude': '36.3307326',\n",
       "  'longitude': '127.443573'}]"
      ]
     },
     "execution_count": 11,
     "metadata": {},
     "output_type": "execute_result"
    }
   ],
   "source": [
    "row_list = []\n",
    "for row in rows[1:]:\n",
    "    if row[0] is None:\n",
    "        break\n",
    "    row_dict = dict(zip(column_names, row))\n",
    "    latitude, longitude = row_dict[\"coordinates\"].split(\",\")\n",
    "    row_dict[\"latitude\"] = latitude\n",
    "    row_dict[\"longitude\"] = longitude\n",
    "    del row_dict[\"coordinates\"]\n",
    "    row_list.append(row_dict)\n",
    "    \n",
    "row_list"
   ]
  },
  {
   "cell_type": "code",
   "execution_count": 12,
   "id": "6c47bfb9",
   "metadata": {},
   "outputs": [],
   "source": [
    "from delicious.models import Shop"
   ]
  },
  {
   "cell_type": "code",
   "execution_count": 16,
   "id": "8b99d648",
   "metadata": {
    "collapsed": true
   },
   "outputs": [
    {
     "name": "stdout",
     "output_type": "stream",
     "text": [
      "Shop object (1)\n",
      "Shop object (2)\n",
      "Shop object (3)\n",
      "Shop object (4)\n",
      "Shop object (5)\n",
      "Shop object (6)\n",
      "Shop object (7)\n",
      "Shop object (8)\n",
      "Shop object (9)\n",
      "Shop object (10)\n"
     ]
    }
   ],
   "source": [
    "for row_dict in row_list:\n",
    "    # shop = Shop(name=\"\", address=\"\")\n",
    "    shop = Shop(**row_dict) # unpack\n",
    "    shop.save()\n",
    "    print(shop)"
   ]
  },
  {
   "cell_type": "code",
   "execution_count": null,
   "id": "a4e6d901",
   "metadata": {},
   "outputs": [],
   "source": []
  },
  {
   "cell_type": "code",
   "execution_count": null,
   "id": "1122594a",
   "metadata": {},
   "outputs": [],
   "source": []
  },
  {
   "cell_type": "code",
   "execution_count": null,
   "id": "8277b6f2",
   "metadata": {},
   "outputs": [],
   "source": []
  },
  {
   "cell_type": "code",
   "execution_count": null,
   "id": "5e4bf6e4",
   "metadata": {},
   "outputs": [],
   "source": []
  },
  {
   "cell_type": "code",
   "execution_count": null,
   "id": "c48b93a7",
   "metadata": {},
   "outputs": [],
   "source": []
  }
 ],
 "metadata": {
  "kernelspec": {
   "display_name": "Python 3 (ipykernel)",
   "language": "python",
   "name": "python3"
  },
  "language_info": {
   "codemirror_mode": {
    "name": "ipython",
    "version": 3
   },
   "file_extension": ".py",
   "mimetype": "text/x-python",
   "name": "python",
   "nbconvert_exporter": "python",
   "pygments_lexer": "ipython3",
   "version": "3.10.0"
  }
 },
 "nbformat": 4,
 "nbformat_minor": 5
}
