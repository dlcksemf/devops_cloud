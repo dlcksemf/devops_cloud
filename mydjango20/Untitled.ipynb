{
 "cells": [
  {
   "cell_type": "code",
   "execution_count": 2,
   "id": "e229190b",
   "metadata": {},
   "outputs": [],
   "source": [
    "import os\n",
    "\n",
    "os.environ[\"DJANGO_SETTINGS_MODULE\"] = \"mydjango20.settings\"\n",
    "os.environ[\"DJANGO_ALLOW_ASYNC_UNSAFE\"] = \"true\"\n",
    "\n",
    "import django\n",
    "django.setup()"
   ]
  },
  {
   "cell_type": "code",
   "execution_count": 16,
   "id": "b2d03f25",
   "metadata": {},
   "outputs": [],
   "source": [
    "from shop.models import Shop, Tag"
   ]
  },
  {
   "cell_type": "code",
   "execution_count": 4,
   "id": "1175e841",
   "metadata": {},
   "outputs": [],
   "source": [
    "shop = Shop.objects.get(pk=3)"
   ]
  },
  {
   "cell_type": "code",
   "execution_count": 5,
   "id": "bd25dd8a",
   "metadata": {},
   "outputs": [
    {
     "data": {
      "text/plain": [
       "<Shop: 이디야>"
      ]
     },
     "execution_count": 5,
     "metadata": {},
     "output_type": "execute_result"
    }
   ],
   "source": [
    "shop"
   ]
  },
  {
   "cell_type": "code",
   "execution_count": 6,
   "id": "b8455986",
   "metadata": {},
   "outputs": [],
   "source": [
    "tags = \"카페, 이디야\""
   ]
  },
  {
   "cell_type": "code",
   "execution_count": 20,
   "id": "d8137ec4",
   "metadata": {},
   "outputs": [
    {
     "data": {
      "text/plain": [
       "(<Tag: 카페>, False)"
      ]
     },
     "execution_count": 20,
     "metadata": {},
     "output_type": "execute_result"
    }
   ],
   "source": [
    "tag_name = \"카페\"\n",
    "\n",
    "# if not Tag.objects.filter(name=tag_name).exists():\n",
    "#     Tag.objects.create(name=tag_name)\n",
    "#     print(\"생성\")\n",
    "# else:\n",
    "#     print(\"Do Nothing\")\n",
    "\n",
    "\n",
    "# ManyToMany 필드 처리에서\n",
    "# 관계로 추가할 모델의 인스턴스 리스트가 필요합니다.\n",
    "\n",
    "tag. __ = Tag.objects.get_or_create(name=tag_name)"
   ]
  },
  {
   "cell_type": "code",
   "execution_count": 22,
   "id": "19a0e260",
   "metadata": {},
   "outputs": [
    {
     "data": {
      "text/plain": [
       "[<Tag: 카페>, <Tag: 이디야>]"
      ]
     },
     "execution_count": 22,
     "metadata": {},
     "output_type": "execute_result"
    }
   ],
   "source": [
    "tag_list = []\n",
    "for word in tags.split(\",\"):\n",
    "    tag_name = word.strip()\n",
    "    tag, __ = Tag.objects.get_or_create(name=tag_name)\n",
    "    tag_list.append(tag)\n",
    "    \n",
    "tag_list"
   ]
  },
  {
   "cell_type": "code",
   "execution_count": 23,
   "id": "471b8239",
   "metadata": {},
   "outputs": [
    {
     "data": {
      "text/plain": [
       "<QuerySet []>"
      ]
     },
     "execution_count": 23,
     "metadata": {},
     "output_type": "execute_result"
    }
   ],
   "source": [
    "shop.tag_set.all()"
   ]
  },
  {
   "cell_type": "code",
   "execution_count": 24,
   "id": "6f4bba88",
   "metadata": {},
   "outputs": [],
   "source": [
    "shop.tag_set.add(*tag_list) # 중복 add에 대한 처리가 내부적으로 되어있어요."
   ]
  },
  {
   "cell_type": "code",
   "execution_count": 25,
   "id": "03c6edae",
   "metadata": {},
   "outputs": [
    {
     "data": {
      "text/plain": [
       "<QuerySet [<Tag: 이디야>, <Tag: 카페>]>"
      ]
     },
     "execution_count": 25,
     "metadata": {},
     "output_type": "execute_result"
    }
   ],
   "source": [
    "shop.tag_set.all()"
   ]
  },
  {
   "cell_type": "code",
   "execution_count": null,
   "id": "1fbaa652",
   "metadata": {},
   "outputs": [],
   "source": [
    "shop.tag_set.clear()"
   ]
  },
  {
   "cell_type": "code",
   "execution_count": null,
   "id": "7867ad32",
   "metadata": {},
   "outputs": [],
   "source": [
    "shop.tag_set.all()"
   ]
  },
  {
   "cell_type": "code",
   "execution_count": null,
   "id": "34558a4a",
   "metadata": {},
   "outputs": [],
   "source": []
  }
 ],
 "metadata": {
  "kernelspec": {
   "display_name": "Python 3 (ipykernel)",
   "language": "python",
   "name": "python3"
  },
  "language_info": {
   "codemirror_mode": {
    "name": "ipython",
    "version": 3
   },
   "file_extension": ".py",
   "mimetype": "text/x-python",
   "name": "python",
   "nbconvert_exporter": "python",
   "pygments_lexer": "ipython3",
   "version": "3.10.0"
  }
 },
 "nbformat": 4,
 "nbformat_minor": 5
}
