{
 "cells": [
  {
   "cell_type": "code",
   "execution_count": 1,
   "id": "6b672c35",
   "metadata": {},
   "outputs": [],
   "source": [
    "import os\n",
    "os.environ[\"DJANGO_SETTINGS_MODULE\"] = \"myhomework16.settings\"\n",
    "os.environ[\"DJANGO_ALLOW_ASYNC_UNSAFE\"] = \"true\"\n",
    "\n",
    "import django\n",
    "django.setup()\n",
    "\n",
    "from openpyxl import load_workbook\n",
    "wb = load_workbook('myhomework16.xlsx')\n",
    "sheet = wb.active\n",
    "rows = [\n",
    "\t[column.value for column in row]\n",
    "\tfor row in sheet\n",
    "]"
   ]
  },
  {
   "cell_type": "code",
   "execution_count": 2,
   "id": "e9eb6740",
   "metadata": {},
   "outputs": [],
   "source": [
    "column_names = rows[0]"
   ]
  },
  {
   "cell_type": "code",
   "execution_count": 4,
   "id": "afe83cc2",
   "metadata": {},
   "outputs": [
    {
     "data": {
      "text/plain": [
       "[{'title': 'ASAP',\n",
       "  'artist': 'STAYC',\n",
       "  'album': 'STAYDOM',\n",
       "  'genre': '댄스',\n",
       "  'released_date': datetime.datetime(2021, 4, 8, 0, 0),\n",
       "  'description': 'Composed by 블랙아이드필승, 전군\\nLyrics by 블랙아이드필승, 전군\\nArranged by 라도\\nBass 라도\\nKeyboard 라도\\nChorus STAYC\\nRecorded by 정은경 @ingrid studio\\nDigital editing by 정은경 @ingrid studio\\nMixed by 고현정(asst. 김준상 정기운 이민우) @Koko sound studio\\nMastered by Stuart Hawkes @Metropolis Mastering Studios\\n\\n자타공인 최고의 히트메이커 블랙아이드필승 X 전군의 조합으로 탄생한 ASAP은 쭉쭉 뻗는 Synth Bass, Woodwind Synth의 캐치한 라인과 시원시원한 리듬악기가 어우러져 청량하고 매력 넘치는 사운드를 가진 STAYC만의 장르 ‘틴프레시’ 곡이다.\\n가슴 속에 완벽하게 그려 놓은 이상형이 ASAP(As Soon As Possible)하게 나타나 줬으면 하는 마음을 톡톡 튀고 재치 있게 풀어내어 리스너들의 귀를 단숨에 감아 챌 것이다.',\n",
       "  'korean_music': True},\n",
       " {'title': 'Holiday',\n",
       "  'artist': '세븐틴',\n",
       "  'album': 'YOU MAKE MY DAY',\n",
       "  'genre': '댄스',\n",
       "  'released_date': datetime.datetime(2018, 7, 16, 0, 0),\n",
       "  'description': 'COMPOSED BY WOOZI, BUMZU, 박기태 (PRISMFILTER), S.COUPS / LYRICS BY WOOZI, BUMZU, S.COUPS, 원우 / ARRANGED BY BUMZU, 박기태 (PRISMFILTER)\\n \\n시원한 모던락을 기반으로 한 팝 장르 곡의 ‘Holiday’는 경쾌하면서도 세븐틴만의 발랄한 에너지가 돋보이는 곡으로 1번 트랙이자 타이틀곡인 ‘어쩌나’와 더불어 적극적인 감정 표현과 직설적인 가사가 눈에 띈다. 트렌디하고 감각적이게 풀어낸 ‘Holiday’는 기분 좋은 여름의 상쾌함을 선사하는 곡이다.\\n ',\n",
       "  'korean_music': True},\n",
       " {'title': '우리의 새벽은 낮보다 뜨겁다',\n",
       "  'artist': '세븐틴',\n",
       "  'album': 'YOU MAKE MY DAY',\n",
       "  'genre': '댄스',\n",
       "  'released_date': datetime.datetime(2018, 7, 17, 0, 0),\n",
       "  'description': 'COMPOSED BY WOOZI, BUMZU, Anchor (PRISMFILTER) / LYRICS BY WOOZI, BUMZU, S.COUPS, 원우, 민규, Vernon / ARRANGED BY BUMZU, Anchor (PRISMFILTER)\\n \\n얼반 R&B 장르로 청명한 베이스 리듬이 세븐틴만의 청량한 매력을 배가 시키며 다채로운 13명의 음색이 하나의 하모니처럼 완벽하게 잘 스며든 곡이다. 좋아하는 이에 대한 마음을 동화같이 아름다운 가사로 드러내 미래를 기약하며 함께 꿈꾸는 환상적인 느낌을 표현했다.',\n",
       "  'korean_music': True},\n",
       " {'title': 'Call me',\n",
       "  'artist': 'BTOB',\n",
       "  'album': 'THIS IS US',\n",
       "  'genre': '댄스',\n",
       "  'released_date': datetime.datetime(2018, 6, 18, 0, 0),\n",
       "  'description': 'Composed by 정일훈, 일(IL)\\nLyrics by 정일훈, 일(IL), 이민혁, 프니엘\\nArranged by 일(IL), 정일훈\\n첫 번째 트랙 ‘Call me’는 [THIS IS US]의 시작을 여는 시원한 느낌의 댄스곡으로 통통 튀는 트로피컬 베이스 사운드에 퓨처 팝 스타일을 더한 흥겹고 트렌디한 곡이다. 상대에게 가볍게 다가가고 싶은 남자의 발칙하고 귀여운 마음을 담은 가사가 인상적이다.',\n",
       "  'korean_music': True},\n",
       " {'title': '너없인 안된다',\n",
       "  'artist': 'BTOB',\n",
       "  'album': 'THIS IS US',\n",
       "  'genre': '발라드',\n",
       "  'released_date': datetime.datetime(2018, 6, 18, 0, 0),\n",
       "  'description': 'Composed, Arranged by 임현식, 이든(EDEN)\\nLyrics by 임현식, 이든(EDEN), 이민혁, 프니엘, 정일훈\\n타이틀곡 ‘너 없인 안 된다’는 청량함이 물씬 느껴지는 신스 패턴과 서정적인 어쿠스틱 사운드 위로 멤버 각자의 개성 있는 보이스 톤을 만끽할 수 있는 팝 발라드 장르의 곡으로 그리워하던 그녀를 향한 남자의 절절한 고백을 간절하지만 부드럽게 풀어냈다.',\n",
       "  'korean_music': True},\n",
       " {'title': '덤디덤디',\n",
       "  'artist': ' (여자)아이들',\n",
       "  'album': '덤디덤디',\n",
       "  'genre': '댄스',\n",
       "  'released_date': datetime.datetime(2020, 8, 3, 0, 0),\n",
       "  'description': \"무더위를 이겨내는 우리만의 특별한 서머 송\\n(여자)아이들 싱글 ‘덤디덤디 (DUMDi DUMDi)’\\n \\n(여자)아이들이 싱글 ‘덤디덤디 (DUMDi DUMDi)’로 컴백한다. ‘덤디덤디 (DUMDi DUMDi)’는 트로피컬 기반에 뭄바톤 리듬이 더해져 (여자)아이들만의 특별한 여름을 느낄 수 있는 댄스 곡이다. 리더 소연과 작곡가 Pop Time이 함께 작업한 곡으로, 여름과 젊음에서 연상되는 ‘뜨거움', '시원함', '열정', '설렘' 등 솔직하고 직관적인 가사와 중독성 있는 멜로디가 어우러져 무더위를 이겨낼 (여자)아이들 표 서머 송이 탄생했다.\\n\\n특히 이번 싱글은 (여자)아이들의 본격적인 여름 컴백에 걸맞는 스타일리시하고 힙한 이미지 변신으로도 화제를 모았다. 작곡, 작사는 물론 비주얼 콘셉트 기획에도 멤버들이 직접 참여하며 남다른 열정을 보였다. 사전 공개된 티저 이미지에서는 나홀로 휴가를 떠난 배우 미연, 자유를 누리는 방랑자 민니, 집콕 생활을 하는 수진, 오픈카를 타고 달리는 소연, 사막을 횡단하는 카우걸 우기, 쾌활한 아르바이트생 슈화의 모습이 담겨 있어 콘셉트에 대한 팬들의 궁금증을 배가시켰다. 6인 6색 멤버들의 개성이 돋보이는 연기는 ‘덤디덤디 (DUMDi DUMDi)’ 뮤직비디오를 통해 확인할 수 있다. 또한 포토 스티커북 형태로 출시된 음반은 한낮의 햇살과 풀장의 시원함을 담은 DAY 버전, 아이들만의 특별한 홈 파티 현장을 들여다볼 수 있는 NIGHT 버전 2종으로 제작되어 특별함을 더했다.\\n \\n다시 한번 가요계에 (여자)아이들 열풍을 불러일으킬 이들의 당찬 퍼포먼스와 음악은 늘 그래왔듯 대중들의 눈과 귀를 사로잡을 예정이다. 식지 않을 (여자)아이들의 뜨거운 여름을 ‘덤디덤디 (DUMDi DUMDi)’와 함께하자.\",\n",
       "  'korean_music': True},\n",
       " {'title': '가자 (LIT)',\n",
       "  'artist': '원어스',\n",
       "  'album': 'FLY WITH US',\n",
       "  'genre': '댄스',\n",
       "  'released_date': datetime.datetime(2019, 9, 30, 0, 0),\n",
       "  'description': 'Lyrics by 김도훈(RBW), 이상호(RBW), Inner child(Monotree), RAVN / Composed by 김도훈(RBW), 이상호(RBW), Inner child(Monotree) / Arranged by 김도훈(RBW), 이상호(RBW), 밍키(RBW)\\n \\n타이틀곡 ‘가자 (LIT)’는 트랩힙합을 베이스로 동양적인 색채의 멜로디라인이 어우러진 곡이다. 그동안 원어스(ONEUS)가 선보인 장르와는 다른 색다른 시도가 보여진다. 휘영청 달 밝은 밤 아래, 화려하게 펼쳐지는 즐거운 한때를 표현했다. 또한 한글의 멋을 살려낸 가사에 민요를 더해 더욱 흥을 돋운다. 선명하고 감각적인 멜로디라인은 동양적인 비비드한 색채감을 화려하게 그려낸다.',\n",
       "  'korean_music': True},\n",
       " {'title': '봄눈',\n",
       "  'artist': '펜타곤',\n",
       "  'album': 'Genie:us',\n",
       "  'genre': '댄스',\n",
       "  'released_date': datetime.datetime(2019, 3, 27, 0, 0),\n",
       "  'description': '다섯 번째 트랙 ‘봄눈’은 어깨가 절로 들썩이는 신나는 Alternative Rock 장르의 곡으로 2018년 봄, 펜타곤을 찾아왔던 특별한 경험을 노래한다. 1년이 지나 새로운 모습으로 찾아온 펜타곤과 항상 곁에서 응원해주는 유니버스의2019년 봄, 소중했던 그때와 같은 행복이 내릴 수 있기를 소망해본다.',\n",
       "  'korean_music': True},\n",
       " {'title': '그해 그달 그날',\n",
       "  'artist': '펜타곤',\n",
       "  'album': 'WE:TH',\n",
       "  'genre': '댄스',\n",
       "  'released_date': datetime.datetime(2020, 10, 12, 0, 0),\n",
       "  'description': \"Composed by MosPick, 우석\\nLyrics by 우석\\nArranged by MosPick\\n사람들은 각자의 많은 추억과 기억들을 안고 살아간다. 그리고 문득 행복했던 그때를 떠올리며 그리워하기도 한다. '그해 그달 그날'은 문득 오래된 서랍에서 꺼내 보는 추억의 사진과도 같은 곡이다.\\n울고 웃으며 함께 지나온 시간들을 앞으로 만들어갈 그해, 그달, 그날을 위해 더 소중히 간직하고자 하는 마음을 담아 노래했다.\\n\",\n",
       "  'korean_music': True},\n",
       " {'title': 'We go',\n",
       "  'artist': '프로미스나인',\n",
       "  'album': '9 WAY TICKET',\n",
       "  'genre': '댄스',\n",
       "  'released_date': datetime.datetime(2021, 5, 17, 0, 0),\n",
       "  'description': 'Composed by 이우민 “collapsedone”, 이해솔, Justin Reinstein, JJean / Lyrics by 구태우, Wkly / Arranged by 이우민 “collapsedone”, 이해솔\\n \\n프로미스나인만의 밝고 건강한 모습을 느낄 수 있는 ‘WE GO’는 새로운 방식의 여행을 즐기며 행복한 순간의 절정을 표현한 곡으로 ‘너와 함께라면 어디든 갈 수 있다’는 설레는 메시지를 전달한다. 답답한 일상에서 벗어나 어디든 훌쩍 떠나고 싶은 마음이 들게 하는 시원한 사운드가 매력적이며 펑키한 기타와 베이스가 돋보이는 신나는 팝 장르의 노래다.',\n",
       "  'korean_music': True},\n",
       " {'title': 'ISLAND',\n",
       "  'artist': 'WINNER',\n",
       "  'album': 'OUR TWENTY FOR',\n",
       "  'genre': '댄스',\n",
       "  'released_date': datetime.datetime(2017, 8, 4, 0, 0),\n",
       "  'description': 'Lyrics by. YOON, MINO, HOONY, Bekuh BOOM\\nComposed by. FUTURE BOUNCE, Bekuh BOOM, YOON\\nArranged by. FUTURE BOUNCE\\n \\n청명한 플럭 신스와 캐치한 브라스 리드로 이뤄진 인트로가 인상적인 댄스홀/트로피컬 장르의 곡이다. 여름이라는 계절과 잘 어우러지는 댄스홀 장르를 통해 청자들에게 시원함을 선사하겠다는 \\'위너\\'의 포부를 엿볼 수 있는 곡이기도 하다. \"REALLY REALLY\"가 \\'위너\\'만의 \\'예쁜 감성\\'을 담아낸 트로피컬 곡이었다면, 이번 타이틀인 \"ISLAND\"는 보다 비박적인 리듬과 강렬한 소스 선택을 통해 보다 \\'흥\\'을 지향하는 곡이다. 가요 감성과 트로피컬한 요소가 조화롭게 묻어나는 점이 특징이며, \\'섬\\'이라는 이색적인 소재를 가사에 담아 두 이성 간의 로맨틱한 감성을 잘 풀어냈다. 벌스, 프리코러스, 후렴 구간에서는 차별화되는 편곡을 통해 곡의 텐션을 유지하는 점과 가사와 잘 맞아떨어지는 사운드 소스를 적절히 이용했다는 점이 매우 인상적인 곡이다.',\n",
       "  'korean_music': True},\n",
       " {'title': 'AH YEAH (아예)',\n",
       "  'artist': 'WINNER',\n",
       "  'album': 'WE',\n",
       "  'genre': '댄스',\n",
       "  'released_date': datetime.datetime(2019, 5, 15, 0, 0),\n",
       "  'description': '1. AH YEAH (아예) (*TITLE)\\n작사 : 강승윤, 송민호, 이승훈 / 작곡 : 강승윤, 강욱진, Diggy, Joe Rhee / 편곡 : 강욱진, Diggy\\n장르 : 댄스\\n리드미컬한 기타 리프와 중독적인 훅이 귀를 사로잡는 WINNER표 여름 댄스곡으로, 심플한 편곡 대비 파트로 각 멤버의 음색을 뚜렷하게 느낄 수 있는 곡이다.\\n                                                                                            ',\n",
       "  'korean_music': True},\n",
       " {'title': 'Bang!',\n",
       "  'artist': 'AJR',\n",
       "  'album': 'OK ORCHESTRA',\n",
       "  'genre': '팝',\n",
       "  'released_date': datetime.datetime(2021, 3, 26, 0, 0),\n",
       "  'description': '애플 광고 BGM과 빌보드 차트까지 섭렵한 AJR(에이제이알)!\\n방 구석에서 작곡, 작사, 프로듀싱, 믹싱까지 해내는 실력파 삼 형제 밴드\\n \\n뉴욕 센트럴파크에서 버스킹으로 시작한 일렉트로닉 팝 밴드 AJR은 삼 형제인 아담(Adam Met), 잭(Jack Met), 라이언(Ryan Met)으로 이루어진 실려파 밴드이다. AJR은 특유의 강렬하고 감각적인 멜로디로 세계 팬들의 마음을 사로잡고 있다. 그들에 의하면 이번 앨범 [OK ORCHESTRA]는 지금까지 만든 앨범 중 가장 이상한 앨범이자 가장 마음에 드는 앨범이라고 하는데 격리 중에 방안에서 앨범을 만들면서 어떤 노래는 굉장히 행복한 반면 슬픈 노래는 엄청 감정적인 노래라고 한다. \\n \\n수록된 13개의 노래 중, 그들의 대표 곡이자 메가 히트 곡인 \"Bang!\"은 \\'어차피 맞닥뜨려야 할 성장의 과정이라면 요란하게(Bang!) 치고 나가자\\' 라는 의미를 담고 있는 신나는 노래로 2020년 홀리데이 애플 광고 삽입곡으로도 사용되어 유명세를 탔으며 빌보드 8위에 안착하며 새로운 기록을 이루어 내기도 했다.\\n \\n앨범 발매에 앞서 선 공개된 \"Way Less Sad\"와 \"Bummerland\"도 경쾌하고 신나는 익숙한 멜로디로 좌절과 힘든 시기를 긍정적으로 극복해 나가는 의미를 지닌 곡들이다. AJR은 자신들의 음악을 경계가 없는 음악이라고 표현했는데 이와 같이 앨범 제목처럼 팝과 일렉트로닉 사운드를 관현 악기 사운드와 함께 섞은 매력적인 앨범이다. 전 세계적으로 주목을 받는 이들의 네번째 정규 앨범을 주목해보자.',\n",
       "  'korean_music': False},\n",
       " {'title': 'HEY CHILD',\n",
       "  'artist': 'X Ambassadors',\n",
       "  'album': 'ORION',\n",
       "  'genre': '록/메탈',\n",
       "  'released_date': datetime.datetime(2019, 6, 14, 0, 0),\n",
       "  'description': '발매일: 2019.06.14\\n장르: 록/메탈\\n발매사: Universal Music Group\\n기획사: Kid Ina Korner / Interscope',\n",
       "  'korean_music': False}]"
      ]
     },
     "execution_count": 4,
     "metadata": {},
     "output_type": "execute_result"
    }
   ],
   "source": [
    "from datetime import datetime\n",
    "row_list = []\n",
    "for row in rows[1:]:\n",
    "    row_dict = dict(zip(column_names, row))\n",
    "    row_dict[\"released_date\"] = datetime.strptime(row_dict[\"released_date\"], '%Y.%m.%d')\n",
    "    row_list.append(row_dict)\n",
    "row_list"
   ]
  },
  {
   "cell_type": "code",
   "execution_count": 5,
   "id": "462d5963",
   "metadata": {},
   "outputs": [],
   "source": [
    "from melon.models import Music"
   ]
  },
  {
   "cell_type": "code",
   "execution_count": 6,
   "id": "3ab8e8c4",
   "metadata": {},
   "outputs": [],
   "source": [
    "for row_dict in row_list:\n",
    "    music = Music(**row_dict)\n",
    "    music.save()"
   ]
  },
  {
   "cell_type": "code",
   "execution_count": null,
   "id": "1ef4c22b",
   "metadata": {},
   "outputs": [],
   "source": []
  }
 ],
 "metadata": {
  "kernelspec": {
   "display_name": "Python 3 (ipykernel)",
   "language": "python",
   "name": "python3"
  },
  "language_info": {
   "codemirror_mode": {
    "name": "ipython",
    "version": 3
   },
   "file_extension": ".py",
   "mimetype": "text/x-python",
   "name": "python",
   "nbconvert_exporter": "python",
   "pygments_lexer": "ipython3",
   "version": "3.10.0"
  }
 },
 "nbformat": 4,
 "nbformat_minor": 5
}
